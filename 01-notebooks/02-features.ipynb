{
 "cells": [
  {
   "cell_type": "code",
   "execution_count": 43,
   "id": "ba22dcc0",
   "metadata": {},
   "outputs": [],
   "source": [
    "import numpy as np \n",
    "import pandas as pd\n",
    "import datetime as dt\n",
    "import matplotlib.pyplot as plt\n",
    "import seaborn as sns"
   ]
  },
  {
   "cell_type": "markdown",
   "id": "2173fbce",
   "metadata": {},
   "source": [
    "# Load data and Prepare"
   ]
  },
  {
   "cell_type": "code",
   "execution_count": 44,
   "id": "1a18aca8",
   "metadata": {},
   "outputs": [],
   "source": [
    "heat = pd.read_csv('../02-data/case-demand-prediction-nytt-data.csv')\n",
    "df = heat.copy()"
   ]
  },
  {
   "cell_type": "markdown",
   "id": "feda3ac4",
   "metadata": {},
   "source": [
    "Parse date "
   ]
  },
  {
   "cell_type": "code",
   "execution_count": 45,
   "id": "161c7758",
   "metadata": {},
   "outputs": [
    {
     "data": {
      "text/html": [
       "<div>\n",
       "<style scoped>\n",
       "    .dataframe tbody tr th:only-of-type {\n",
       "        vertical-align: middle;\n",
       "    }\n",
       "\n",
       "    .dataframe tbody tr th {\n",
       "        vertical-align: top;\n",
       "    }\n",
       "\n",
       "    .dataframe thead th {\n",
       "        text-align: right;\n",
       "    }\n",
       "</style>\n",
       "<table border=\"1\" class=\"dataframe\">\n",
       "  <thead>\n",
       "    <tr style=\"text-align: right;\">\n",
       "      <th></th>\n",
       "      <th>consumed_heat</th>\n",
       "      <th>temp</th>\n",
       "      <th>cloud</th>\n",
       "      <th>day_of_week</th>\n",
       "      <th>holiday_in_general</th>\n",
       "      <th>school_holiday_period</th>\n",
       "      <th>public_holiday_period</th>\n",
       "      <th>wind_direction</th>\n",
       "      <th>wind_speed</th>\n",
       "    </tr>\n",
       "    <tr>\n",
       "      <th>tstamp</th>\n",
       "      <th></th>\n",
       "      <th></th>\n",
       "      <th></th>\n",
       "      <th></th>\n",
       "      <th></th>\n",
       "      <th></th>\n",
       "      <th></th>\n",
       "      <th></th>\n",
       "      <th></th>\n",
       "    </tr>\n",
       "  </thead>\n",
       "  <tbody>\n",
       "    <tr>\n",
       "      <th>2012-01-01 00:00:00</th>\n",
       "      <td>21.441080</td>\n",
       "      <td>-8.8</td>\n",
       "      <td>13.0</td>\n",
       "      <td>Sunday</td>\n",
       "      <td>1.0</td>\n",
       "      <td>1.0</td>\n",
       "      <td>1.0</td>\n",
       "      <td>0.0</td>\n",
       "      <td>0.0</td>\n",
       "    </tr>\n",
       "    <tr>\n",
       "      <th>2012-01-01 01:00:00</th>\n",
       "      <td>21.636080</td>\n",
       "      <td>-8.5</td>\n",
       "      <td>13.0</td>\n",
       "      <td>Sunday</td>\n",
       "      <td>1.0</td>\n",
       "      <td>1.0</td>\n",
       "      <td>1.0</td>\n",
       "      <td>0.0</td>\n",
       "      <td>0.0</td>\n",
       "    </tr>\n",
       "    <tr>\n",
       "      <th>2012-01-01 02:00:00</th>\n",
       "      <td>21.195580</td>\n",
       "      <td>-8.8</td>\n",
       "      <td>13.0</td>\n",
       "      <td>Sunday</td>\n",
       "      <td>1.0</td>\n",
       "      <td>1.0</td>\n",
       "      <td>1.0</td>\n",
       "      <td>130.0</td>\n",
       "      <td>1.0</td>\n",
       "    </tr>\n",
       "    <tr>\n",
       "      <th>2012-01-01 03:00:00</th>\n",
       "      <td>20.775913</td>\n",
       "      <td>-8.2</td>\n",
       "      <td>13.0</td>\n",
       "      <td>Sunday</td>\n",
       "      <td>1.0</td>\n",
       "      <td>1.0</td>\n",
       "      <td>1.0</td>\n",
       "      <td>130.0</td>\n",
       "      <td>1.0</td>\n",
       "    </tr>\n",
       "    <tr>\n",
       "      <th>2012-01-01 04:00:00</th>\n",
       "      <td>20.453913</td>\n",
       "      <td>-6.7</td>\n",
       "      <td>13.0</td>\n",
       "      <td>Sunday</td>\n",
       "      <td>1.0</td>\n",
       "      <td>1.0</td>\n",
       "      <td>1.0</td>\n",
       "      <td>110.0</td>\n",
       "      <td>1.0</td>\n",
       "    </tr>\n",
       "  </tbody>\n",
       "</table>\n",
       "</div>"
      ],
      "text/plain": [
       "                     consumed_heat  temp  cloud day_of_week  \\\n",
       "tstamp                                                        \n",
       "2012-01-01 00:00:00      21.441080  -8.8   13.0      Sunday   \n",
       "2012-01-01 01:00:00      21.636080  -8.5   13.0      Sunday   \n",
       "2012-01-01 02:00:00      21.195580  -8.8   13.0      Sunday   \n",
       "2012-01-01 03:00:00      20.775913  -8.2   13.0      Sunday   \n",
       "2012-01-01 04:00:00      20.453913  -6.7   13.0      Sunday   \n",
       "\n",
       "                     holiday_in_general  school_holiday_period  \\\n",
       "tstamp                                                           \n",
       "2012-01-01 00:00:00                 1.0                    1.0   \n",
       "2012-01-01 01:00:00                 1.0                    1.0   \n",
       "2012-01-01 02:00:00                 1.0                    1.0   \n",
       "2012-01-01 03:00:00                 1.0                    1.0   \n",
       "2012-01-01 04:00:00                 1.0                    1.0   \n",
       "\n",
       "                     public_holiday_period  wind_direction  wind_speed  \n",
       "tstamp                                                                  \n",
       "2012-01-01 00:00:00                    1.0             0.0         0.0  \n",
       "2012-01-01 01:00:00                    1.0             0.0         0.0  \n",
       "2012-01-01 02:00:00                    1.0           130.0         1.0  \n",
       "2012-01-01 03:00:00                    1.0           130.0         1.0  \n",
       "2012-01-01 04:00:00                    1.0           110.0         1.0  "
      ]
     },
     "execution_count": 45,
     "metadata": {},
     "output_type": "execute_result"
    }
   ],
   "source": [
    "df['tstamp'] = pd.to_datetime(df['tstamp'], format='%d/%m/%Y %H:%M') #01/01/2012 00:00\n",
    "df = df.set_index('tstamp').sort_index()\n",
    "\n",
    "df.head()"
   ]
  },
  {
   "cell_type": "code",
   "execution_count": 46,
   "id": "8a632205",
   "metadata": {},
   "outputs": [
    {
     "data": {
      "text/plain": [
       "consumed_heat              0\n",
       "temp                     285\n",
       "cloud                    285\n",
       "day_of_week              285\n",
       "holiday_in_general       285\n",
       "school_holiday_period    285\n",
       "public_holiday_period    285\n",
       "wind_direction           351\n",
       "wind_speed               351\n",
       "dtype: int64"
      ]
     },
     "execution_count": 46,
     "metadata": {},
     "output_type": "execute_result"
    }
   ],
   "source": [
    "df.isnull().sum()"
   ]
  },
  {
   "cell_type": "code",
   "execution_count": 47,
   "id": "3a0b26ed",
   "metadata": {},
   "outputs": [
    {
     "name": "stdout",
     "output_type": "stream",
     "text": [
      "['temp', 'cloud', 'day_of_week', 'holiday_in_general', 'school_holiday_period', 'public_holiday_period', 'wind_direction', 'wind_speed']\n"
     ]
    }
   ],
   "source": [
    "columns_with_nans = df.isnull().sum()[df.isnull().sum() > 0].index.tolist()\n",
    "print(columns_with_nans)\n",
    "df = df.dropna(subset=columns_with_nans)"
   ]
  },
  {
   "cell_type": "code",
   "execution_count": 48,
   "id": "4965170b",
   "metadata": {},
   "outputs": [
    {
     "data": {
      "text/plain": [
       "Series([], dtype: int64)"
      ]
     },
     "execution_count": 48,
     "metadata": {},
     "output_type": "execute_result"
    }
   ],
   "source": [
    "df.isnull().sum()[df.isnull().sum() > 0]"
   ]
  },
  {
   "cell_type": "code",
   "execution_count": null,
   "id": "2d3157ee",
   "metadata": {},
   "outputs": [],
   "source": []
  },
  {
   "cell_type": "code",
   "execution_count": null,
   "id": "880279db",
   "metadata": {},
   "outputs": [],
   "source": []
  },
  {
   "cell_type": "markdown",
   "id": "bc4adb47",
   "metadata": {},
   "source": [
    "# Feature engineering"
   ]
  },
  {
   "cell_type": "markdown",
   "id": "717560d4",
   "metadata": {},
   "source": [
    "### Lag features (previous hour and previous day at the same time)\n",
    "This is not entirely correct as I removed ~300 rows earlier. But given the fast that there are still 64634 rows, this effect is negligible."
   ]
  },
  {
   "cell_type": "code",
   "execution_count": 49,
   "id": "8961342c",
   "metadata": {},
   "outputs": [
    {
     "data": {
      "text/html": [
       "<div>\n",
       "<style scoped>\n",
       "    .dataframe tbody tr th:only-of-type {\n",
       "        vertical-align: middle;\n",
       "    }\n",
       "\n",
       "    .dataframe tbody tr th {\n",
       "        vertical-align: top;\n",
       "    }\n",
       "\n",
       "    .dataframe thead th {\n",
       "        text-align: right;\n",
       "    }\n",
       "</style>\n",
       "<table border=\"1\" class=\"dataframe\">\n",
       "  <thead>\n",
       "    <tr style=\"text-align: right;\">\n",
       "      <th></th>\n",
       "      <th>consumed_heat</th>\n",
       "      <th>temp</th>\n",
       "      <th>cloud</th>\n",
       "      <th>day_of_week</th>\n",
       "      <th>holiday_in_general</th>\n",
       "      <th>school_holiday_period</th>\n",
       "      <th>public_holiday_period</th>\n",
       "      <th>wind_direction</th>\n",
       "      <th>wind_speed</th>\n",
       "      <th>lag_24</th>\n",
       "    </tr>\n",
       "    <tr>\n",
       "      <th>tstamp</th>\n",
       "      <th></th>\n",
       "      <th></th>\n",
       "      <th></th>\n",
       "      <th></th>\n",
       "      <th></th>\n",
       "      <th></th>\n",
       "      <th></th>\n",
       "      <th></th>\n",
       "      <th></th>\n",
       "      <th></th>\n",
       "    </tr>\n",
       "  </thead>\n",
       "  <tbody>\n",
       "    <tr>\n",
       "      <th>2012-01-01 00:00:00</th>\n",
       "      <td>21.44108</td>\n",
       "      <td>-8.8</td>\n",
       "      <td>13.0</td>\n",
       "      <td>Sunday</td>\n",
       "      <td>1.0</td>\n",
       "      <td>1.0</td>\n",
       "      <td>1.0</td>\n",
       "      <td>0.0</td>\n",
       "      <td>0.0</td>\n",
       "      <td>NaN</td>\n",
       "    </tr>\n",
       "    <tr>\n",
       "      <th>2012-01-01 01:00:00</th>\n",
       "      <td>21.63608</td>\n",
       "      <td>-8.5</td>\n",
       "      <td>13.0</td>\n",
       "      <td>Sunday</td>\n",
       "      <td>1.0</td>\n",
       "      <td>1.0</td>\n",
       "      <td>1.0</td>\n",
       "      <td>0.0</td>\n",
       "      <td>0.0</td>\n",
       "      <td>NaN</td>\n",
       "    </tr>\n",
       "    <tr>\n",
       "      <th>2012-01-01 02:00:00</th>\n",
       "      <td>21.19558</td>\n",
       "      <td>-8.8</td>\n",
       "      <td>13.0</td>\n",
       "      <td>Sunday</td>\n",
       "      <td>1.0</td>\n",
       "      <td>1.0</td>\n",
       "      <td>1.0</td>\n",
       "      <td>130.0</td>\n",
       "      <td>1.0</td>\n",
       "      <td>NaN</td>\n",
       "    </tr>\n",
       "  </tbody>\n",
       "</table>\n",
       "</div>"
      ],
      "text/plain": [
       "                     consumed_heat  temp  cloud day_of_week  \\\n",
       "tstamp                                                        \n",
       "2012-01-01 00:00:00       21.44108  -8.8   13.0      Sunday   \n",
       "2012-01-01 01:00:00       21.63608  -8.5   13.0      Sunday   \n",
       "2012-01-01 02:00:00       21.19558  -8.8   13.0      Sunday   \n",
       "\n",
       "                     holiday_in_general  school_holiday_period  \\\n",
       "tstamp                                                           \n",
       "2012-01-01 00:00:00                 1.0                    1.0   \n",
       "2012-01-01 01:00:00                 1.0                    1.0   \n",
       "2012-01-01 02:00:00                 1.0                    1.0   \n",
       "\n",
       "                     public_holiday_period  wind_direction  wind_speed  lag_24  \n",
       "tstamp                                                                          \n",
       "2012-01-01 00:00:00                    1.0             0.0         0.0     NaN  \n",
       "2012-01-01 01:00:00                    1.0             0.0         0.0     NaN  \n",
       "2012-01-01 02:00:00                    1.0           130.0         1.0     NaN  "
      ]
     },
     "execution_count": 49,
     "metadata": {},
     "output_type": "execute_result"
    }
   ],
   "source": [
    "#df['lag_1'] = df['consumed_heat'].shift(1)\n",
    "df['lag_24'] = df['consumed_heat'].shift(24)\n",
    "df.head(3)"
   ]
  },
  {
   "cell_type": "markdown",
   "id": "99c2f754",
   "metadata": {},
   "source": [
    "### Create columns with hour, day, month, year\n",
    "I think year doesn't make a difference. But I'll try this anyways."
   ]
  },
  {
   "cell_type": "code",
   "execution_count": 50,
   "id": "5f28586b",
   "metadata": {},
   "outputs": [],
   "source": [
    "df['hour'] = df.index.hour\n",
    "df['day'] = df.index.day\n",
    "df['month'] = df.index.month\n",
    "df['year'] = df.index.year\n",
    "df['is_weekend'] = df['day_of_week'].isin(['Saturday', 'Sunday']).astype(int)\n"
   ]
  },
  {
   "cell_type": "code",
   "execution_count": 51,
   "id": "de7a0028",
   "metadata": {},
   "outputs": [
    {
     "data": {
      "text/html": [
       "<div>\n",
       "<style scoped>\n",
       "    .dataframe tbody tr th:only-of-type {\n",
       "        vertical-align: middle;\n",
       "    }\n",
       "\n",
       "    .dataframe tbody tr th {\n",
       "        vertical-align: top;\n",
       "    }\n",
       "\n",
       "    .dataframe thead th {\n",
       "        text-align: right;\n",
       "    }\n",
       "</style>\n",
       "<table border=\"1\" class=\"dataframe\">\n",
       "  <thead>\n",
       "    <tr style=\"text-align: right;\">\n",
       "      <th></th>\n",
       "      <th>consumed_heat</th>\n",
       "      <th>temp</th>\n",
       "      <th>cloud</th>\n",
       "      <th>day_of_week</th>\n",
       "      <th>holiday_in_general</th>\n",
       "      <th>school_holiday_period</th>\n",
       "      <th>public_holiday_period</th>\n",
       "      <th>wind_direction</th>\n",
       "      <th>wind_speed</th>\n",
       "      <th>lag_24</th>\n",
       "      <th>hour</th>\n",
       "      <th>day</th>\n",
       "      <th>month</th>\n",
       "      <th>year</th>\n",
       "      <th>is_weekend</th>\n",
       "    </tr>\n",
       "    <tr>\n",
       "      <th>tstamp</th>\n",
       "      <th></th>\n",
       "      <th></th>\n",
       "      <th></th>\n",
       "      <th></th>\n",
       "      <th></th>\n",
       "      <th></th>\n",
       "      <th></th>\n",
       "      <th></th>\n",
       "      <th></th>\n",
       "      <th></th>\n",
       "      <th></th>\n",
       "      <th></th>\n",
       "      <th></th>\n",
       "      <th></th>\n",
       "      <th></th>\n",
       "    </tr>\n",
       "  </thead>\n",
       "  <tbody>\n",
       "    <tr>\n",
       "      <th>2012-01-01 00:00:00</th>\n",
       "      <td>21.441080</td>\n",
       "      <td>-8.8</td>\n",
       "      <td>13.0</td>\n",
       "      <td>Sunday</td>\n",
       "      <td>1.0</td>\n",
       "      <td>1.0</td>\n",
       "      <td>1.0</td>\n",
       "      <td>0.0</td>\n",
       "      <td>0.0</td>\n",
       "      <td>NaN</td>\n",
       "      <td>0</td>\n",
       "      <td>1</td>\n",
       "      <td>1</td>\n",
       "      <td>2012</td>\n",
       "      <td>1</td>\n",
       "    </tr>\n",
       "    <tr>\n",
       "      <th>2012-01-01 01:00:00</th>\n",
       "      <td>21.636080</td>\n",
       "      <td>-8.5</td>\n",
       "      <td>13.0</td>\n",
       "      <td>Sunday</td>\n",
       "      <td>1.0</td>\n",
       "      <td>1.0</td>\n",
       "      <td>1.0</td>\n",
       "      <td>0.0</td>\n",
       "      <td>0.0</td>\n",
       "      <td>NaN</td>\n",
       "      <td>1</td>\n",
       "      <td>1</td>\n",
       "      <td>1</td>\n",
       "      <td>2012</td>\n",
       "      <td>1</td>\n",
       "    </tr>\n",
       "    <tr>\n",
       "      <th>2012-01-01 02:00:00</th>\n",
       "      <td>21.195580</td>\n",
       "      <td>-8.8</td>\n",
       "      <td>13.0</td>\n",
       "      <td>Sunday</td>\n",
       "      <td>1.0</td>\n",
       "      <td>1.0</td>\n",
       "      <td>1.0</td>\n",
       "      <td>130.0</td>\n",
       "      <td>1.0</td>\n",
       "      <td>NaN</td>\n",
       "      <td>2</td>\n",
       "      <td>1</td>\n",
       "      <td>1</td>\n",
       "      <td>2012</td>\n",
       "      <td>1</td>\n",
       "    </tr>\n",
       "    <tr>\n",
       "      <th>2012-01-01 03:00:00</th>\n",
       "      <td>20.775913</td>\n",
       "      <td>-8.2</td>\n",
       "      <td>13.0</td>\n",
       "      <td>Sunday</td>\n",
       "      <td>1.0</td>\n",
       "      <td>1.0</td>\n",
       "      <td>1.0</td>\n",
       "      <td>130.0</td>\n",
       "      <td>1.0</td>\n",
       "      <td>NaN</td>\n",
       "      <td>3</td>\n",
       "      <td>1</td>\n",
       "      <td>1</td>\n",
       "      <td>2012</td>\n",
       "      <td>1</td>\n",
       "    </tr>\n",
       "    <tr>\n",
       "      <th>2012-01-01 04:00:00</th>\n",
       "      <td>20.453913</td>\n",
       "      <td>-6.7</td>\n",
       "      <td>13.0</td>\n",
       "      <td>Sunday</td>\n",
       "      <td>1.0</td>\n",
       "      <td>1.0</td>\n",
       "      <td>1.0</td>\n",
       "      <td>110.0</td>\n",
       "      <td>1.0</td>\n",
       "      <td>NaN</td>\n",
       "      <td>4</td>\n",
       "      <td>1</td>\n",
       "      <td>1</td>\n",
       "      <td>2012</td>\n",
       "      <td>1</td>\n",
       "    </tr>\n",
       "  </tbody>\n",
       "</table>\n",
       "</div>"
      ],
      "text/plain": [
       "                     consumed_heat  temp  cloud day_of_week  \\\n",
       "tstamp                                                        \n",
       "2012-01-01 00:00:00      21.441080  -8.8   13.0      Sunday   \n",
       "2012-01-01 01:00:00      21.636080  -8.5   13.0      Sunday   \n",
       "2012-01-01 02:00:00      21.195580  -8.8   13.0      Sunday   \n",
       "2012-01-01 03:00:00      20.775913  -8.2   13.0      Sunday   \n",
       "2012-01-01 04:00:00      20.453913  -6.7   13.0      Sunday   \n",
       "\n",
       "                     holiday_in_general  school_holiday_period  \\\n",
       "tstamp                                                           \n",
       "2012-01-01 00:00:00                 1.0                    1.0   \n",
       "2012-01-01 01:00:00                 1.0                    1.0   \n",
       "2012-01-01 02:00:00                 1.0                    1.0   \n",
       "2012-01-01 03:00:00                 1.0                    1.0   \n",
       "2012-01-01 04:00:00                 1.0                    1.0   \n",
       "\n",
       "                     public_holiday_period  wind_direction  wind_speed  \\\n",
       "tstamp                                                                   \n",
       "2012-01-01 00:00:00                    1.0             0.0         0.0   \n",
       "2012-01-01 01:00:00                    1.0             0.0         0.0   \n",
       "2012-01-01 02:00:00                    1.0           130.0         1.0   \n",
       "2012-01-01 03:00:00                    1.0           130.0         1.0   \n",
       "2012-01-01 04:00:00                    1.0           110.0         1.0   \n",
       "\n",
       "                     lag_24  hour  day  month  year  is_weekend  \n",
       "tstamp                                                           \n",
       "2012-01-01 00:00:00     NaN     0    1      1  2012           1  \n",
       "2012-01-01 01:00:00     NaN     1    1      1  2012           1  \n",
       "2012-01-01 02:00:00     NaN     2    1      1  2012           1  \n",
       "2012-01-01 03:00:00     NaN     3    1      1  2012           1  \n",
       "2012-01-01 04:00:00     NaN     4    1      1  2012           1  "
      ]
     },
     "execution_count": 51,
     "metadata": {},
     "output_type": "execute_result"
    }
   ],
   "source": [
    "df.head()"
   ]
  },
  {
   "cell_type": "markdown",
   "id": "22eb2fe9",
   "metadata": {},
   "source": [
    "## Enccode categorical variables"
   ]
  },
  {
   "cell_type": "code",
   "execution_count": 52,
   "id": "b80a3e6b",
   "metadata": {},
   "outputs": [
    {
     "data": {
      "text/plain": [
       "array(['Sunday', 'Monday', 'Tuesday', 'Wednesday', 'Thursday', 'Friday',\n",
       "       'Saturday'], dtype=object)"
      ]
     },
     "execution_count": 52,
     "metadata": {},
     "output_type": "execute_result"
    }
   ],
   "source": [
    "df.day_of_week.unique()"
   ]
  },
  {
   "cell_type": "code",
   "execution_count": 53,
   "id": "34a20f92",
   "metadata": {},
   "outputs": [
    {
     "name": "stdout",
     "output_type": "stream",
     "text": [
      "Numerical:  ['consumed_heat', 'temp', 'cloud', 'holiday_in_general', 'school_holiday_period', 'public_holiday_period', 'wind_direction', 'wind_speed', 'lag_24', 'hour', 'day', 'month', 'year', 'is_weekend']\n",
      "Other:  ['day_of_week']\n"
     ]
    }
   ],
   "source": [
    "numerical_cols = df.select_dtypes(include='number').columns.tolist()\n",
    "other_cols = df.select_dtypes(include=object).columns.tolist()\n",
    "\n",
    "print(\"Numerical: \", numerical_cols)\n",
    "print(\"Other: \", other_cols)"
   ]
  },
  {
   "cell_type": "markdown",
   "id": "309df35b",
   "metadata": {},
   "source": [
    "`drop_first=True` removes one of the newly created dummy variable columns for each original categorical feature. This is done to prevent a statistical issue called multicollinearity.\n",
    "By using drop_first=True, you provide all the necessary information to the model without introducing redundant data, which is a standard best practice for feature engineering.\n",
    "When you use pd.get_dummies to convert a categorical column (like 'day_of_week' or 'weather_type'), it creates a new binary (0 or 1) column for each unique category. This process is called one-hot encoding.\n",
    "\n",
    "The problem is that these new columns are perfectly correlated. The value of one column can be perfectly predicted from the values of the others. For many machine learning models (especially linear models like Linear Regression), this multicollinearity can cause problems with model training and interpretability.\n",
    "\n",
    "By setting drop_first=True, you drop one category, which becomes the \"baseline\" or \"reference\" category. The model can infer the presence of this dropped category when all other dummy columns for that feature are 0."
   ]
  },
  {
   "cell_type": "code",
   "execution_count": 54,
   "id": "8fa84cce",
   "metadata": {},
   "outputs": [],
   "source": [
    "# one-hot encoding\n",
    "df = pd.get_dummies(df, columns=other_cols, drop_first=True)"
   ]
  },
  {
   "cell_type": "code",
   "execution_count": 55,
   "id": "2aca6c92",
   "metadata": {},
   "outputs": [
    {
     "data": {
      "text/plain": [
       "(64634, 20)"
      ]
     },
     "execution_count": 55,
     "metadata": {},
     "output_type": "execute_result"
    }
   ],
   "source": [
    "df.shape"
   ]
  },
  {
   "cell_type": "markdown",
   "id": "ca1a81e9",
   "metadata": {},
   "source": [
    "# Now remove new NaNs created from lag features"
   ]
  },
  {
   "cell_type": "code",
   "execution_count": 56,
   "id": "ec9c7dca",
   "metadata": {},
   "outputs": [
    {
     "data": {
      "text/plain": [
       "lag_24    24\n",
       "dtype: int64"
      ]
     },
     "execution_count": 56,
     "metadata": {},
     "output_type": "execute_result"
    }
   ],
   "source": [
    "cols = ['lag_24']\n",
    "df[cols].isnull().sum()"
   ]
  },
  {
   "cell_type": "code",
   "execution_count": 57,
   "id": "e82c5324",
   "metadata": {},
   "outputs": [
    {
     "data": {
      "text/plain": [
       "consumed_heat            0\n",
       "temp                     0\n",
       "cloud                    0\n",
       "holiday_in_general       0\n",
       "school_holiday_period    0\n",
       "public_holiday_period    0\n",
       "wind_direction           0\n",
       "wind_speed               0\n",
       "lag_24                   0\n",
       "hour                     0\n",
       "day                      0\n",
       "month                    0\n",
       "year                     0\n",
       "is_weekend               0\n",
       "day_of_week_Monday       0\n",
       "day_of_week_Saturday     0\n",
       "day_of_week_Sunday       0\n",
       "day_of_week_Thursday     0\n",
       "day_of_week_Tuesday      0\n",
       "day_of_week_Wednesday    0\n",
       "dtype: int64"
      ]
     },
     "execution_count": 57,
     "metadata": {},
     "output_type": "execute_result"
    }
   ],
   "source": [
    "df = df.dropna(axis=0, subset=cols)\n",
    "df.isnull().sum()"
   ]
  },
  {
   "cell_type": "code",
   "execution_count": 58,
   "id": "c7da3d46",
   "metadata": {},
   "outputs": [],
   "source": [
    "#df.to_csv(\"../02-data/data_cleaned_engineered.csv\")"
   ]
  },
  {
   "cell_type": "code",
   "execution_count": 59,
   "id": "76f3109b",
   "metadata": {},
   "outputs": [
    {
     "data": {
      "text/html": [
       "<div>\n",
       "<style scoped>\n",
       "    .dataframe tbody tr th:only-of-type {\n",
       "        vertical-align: middle;\n",
       "    }\n",
       "\n",
       "    .dataframe tbody tr th {\n",
       "        vertical-align: top;\n",
       "    }\n",
       "\n",
       "    .dataframe thead th {\n",
       "        text-align: right;\n",
       "    }\n",
       "</style>\n",
       "<table border=\"1\" class=\"dataframe\">\n",
       "  <thead>\n",
       "    <tr style=\"text-align: right;\">\n",
       "      <th></th>\n",
       "      <th>consumed_heat</th>\n",
       "      <th>temp</th>\n",
       "      <th>cloud</th>\n",
       "      <th>holiday_in_general</th>\n",
       "      <th>school_holiday_period</th>\n",
       "      <th>public_holiday_period</th>\n",
       "      <th>wind_direction</th>\n",
       "      <th>wind_speed</th>\n",
       "      <th>lag_24</th>\n",
       "      <th>hour</th>\n",
       "      <th>day</th>\n",
       "      <th>month</th>\n",
       "      <th>year</th>\n",
       "      <th>is_weekend</th>\n",
       "      <th>day_of_week_Monday</th>\n",
       "      <th>day_of_week_Saturday</th>\n",
       "      <th>day_of_week_Sunday</th>\n",
       "      <th>day_of_week_Thursday</th>\n",
       "      <th>day_of_week_Tuesday</th>\n",
       "      <th>day_of_week_Wednesday</th>\n",
       "    </tr>\n",
       "    <tr>\n",
       "      <th>tstamp</th>\n",
       "      <th></th>\n",
       "      <th></th>\n",
       "      <th></th>\n",
       "      <th></th>\n",
       "      <th></th>\n",
       "      <th></th>\n",
       "      <th></th>\n",
       "      <th></th>\n",
       "      <th></th>\n",
       "      <th></th>\n",
       "      <th></th>\n",
       "      <th></th>\n",
       "      <th></th>\n",
       "      <th></th>\n",
       "      <th></th>\n",
       "      <th></th>\n",
       "      <th></th>\n",
       "      <th></th>\n",
       "      <th></th>\n",
       "      <th></th>\n",
       "    </tr>\n",
       "  </thead>\n",
       "  <tbody>\n",
       "    <tr>\n",
       "      <th>2012-01-02 00:00:00</th>\n",
       "      <td>16.373093</td>\n",
       "      <td>3.1</td>\n",
       "      <td>100.0</td>\n",
       "      <td>1.0</td>\n",
       "      <td>1.0</td>\n",
       "      <td>0.0</td>\n",
       "      <td>130.0</td>\n",
       "      <td>3.0</td>\n",
       "      <td>21.441080</td>\n",
       "      <td>0</td>\n",
       "      <td>2</td>\n",
       "      <td>1</td>\n",
       "      <td>2012</td>\n",
       "      <td>0</td>\n",
       "      <td>True</td>\n",
       "      <td>False</td>\n",
       "      <td>False</td>\n",
       "      <td>False</td>\n",
       "      <td>False</td>\n",
       "      <td>False</td>\n",
       "    </tr>\n",
       "    <tr>\n",
       "      <th>2012-01-02 01:00:00</th>\n",
       "      <td>15.306093</td>\n",
       "      <td>3.4</td>\n",
       "      <td>100.0</td>\n",
       "      <td>1.0</td>\n",
       "      <td>1.0</td>\n",
       "      <td>0.0</td>\n",
       "      <td>170.0</td>\n",
       "      <td>3.0</td>\n",
       "      <td>21.636080</td>\n",
       "      <td>1</td>\n",
       "      <td>2</td>\n",
       "      <td>1</td>\n",
       "      <td>2012</td>\n",
       "      <td>0</td>\n",
       "      <td>True</td>\n",
       "      <td>False</td>\n",
       "      <td>False</td>\n",
       "      <td>False</td>\n",
       "      <td>False</td>\n",
       "      <td>False</td>\n",
       "    </tr>\n",
       "    <tr>\n",
       "      <th>2012-01-02 02:00:00</th>\n",
       "      <td>14.863093</td>\n",
       "      <td>3.9</td>\n",
       "      <td>100.0</td>\n",
       "      <td>1.0</td>\n",
       "      <td>1.0</td>\n",
       "      <td>0.0</td>\n",
       "      <td>160.0</td>\n",
       "      <td>3.0</td>\n",
       "      <td>21.195580</td>\n",
       "      <td>2</td>\n",
       "      <td>2</td>\n",
       "      <td>1</td>\n",
       "      <td>2012</td>\n",
       "      <td>0</td>\n",
       "      <td>True</td>\n",
       "      <td>False</td>\n",
       "      <td>False</td>\n",
       "      <td>False</td>\n",
       "      <td>False</td>\n",
       "      <td>False</td>\n",
       "    </tr>\n",
       "    <tr>\n",
       "      <th>2012-01-02 03:00:00</th>\n",
       "      <td>14.246093</td>\n",
       "      <td>3.9</td>\n",
       "      <td>100.0</td>\n",
       "      <td>1.0</td>\n",
       "      <td>1.0</td>\n",
       "      <td>0.0</td>\n",
       "      <td>140.0</td>\n",
       "      <td>2.0</td>\n",
       "      <td>20.775913</td>\n",
       "      <td>3</td>\n",
       "      <td>2</td>\n",
       "      <td>1</td>\n",
       "      <td>2012</td>\n",
       "      <td>0</td>\n",
       "      <td>True</td>\n",
       "      <td>False</td>\n",
       "      <td>False</td>\n",
       "      <td>False</td>\n",
       "      <td>False</td>\n",
       "      <td>False</td>\n",
       "    </tr>\n",
       "    <tr>\n",
       "      <th>2012-01-02 04:00:00</th>\n",
       "      <td>14.297093</td>\n",
       "      <td>4.3</td>\n",
       "      <td>100.0</td>\n",
       "      <td>1.0</td>\n",
       "      <td>1.0</td>\n",
       "      <td>0.0</td>\n",
       "      <td>150.0</td>\n",
       "      <td>4.0</td>\n",
       "      <td>20.453913</td>\n",
       "      <td>4</td>\n",
       "      <td>2</td>\n",
       "      <td>1</td>\n",
       "      <td>2012</td>\n",
       "      <td>0</td>\n",
       "      <td>True</td>\n",
       "      <td>False</td>\n",
       "      <td>False</td>\n",
       "      <td>False</td>\n",
       "      <td>False</td>\n",
       "      <td>False</td>\n",
       "    </tr>\n",
       "  </tbody>\n",
       "</table>\n",
       "</div>"
      ],
      "text/plain": [
       "                     consumed_heat  temp  cloud  holiday_in_general  \\\n",
       "tstamp                                                                \n",
       "2012-01-02 00:00:00      16.373093   3.1  100.0                 1.0   \n",
       "2012-01-02 01:00:00      15.306093   3.4  100.0                 1.0   \n",
       "2012-01-02 02:00:00      14.863093   3.9  100.0                 1.0   \n",
       "2012-01-02 03:00:00      14.246093   3.9  100.0                 1.0   \n",
       "2012-01-02 04:00:00      14.297093   4.3  100.0                 1.0   \n",
       "\n",
       "                     school_holiday_period  public_holiday_period  \\\n",
       "tstamp                                                              \n",
       "2012-01-02 00:00:00                    1.0                    0.0   \n",
       "2012-01-02 01:00:00                    1.0                    0.0   \n",
       "2012-01-02 02:00:00                    1.0                    0.0   \n",
       "2012-01-02 03:00:00                    1.0                    0.0   \n",
       "2012-01-02 04:00:00                    1.0                    0.0   \n",
       "\n",
       "                     wind_direction  wind_speed     lag_24  hour  day  month  \\\n",
       "tstamp                                                                         \n",
       "2012-01-02 00:00:00           130.0         3.0  21.441080     0    2      1   \n",
       "2012-01-02 01:00:00           170.0         3.0  21.636080     1    2      1   \n",
       "2012-01-02 02:00:00           160.0         3.0  21.195580     2    2      1   \n",
       "2012-01-02 03:00:00           140.0         2.0  20.775913     3    2      1   \n",
       "2012-01-02 04:00:00           150.0         4.0  20.453913     4    2      1   \n",
       "\n",
       "                     year  is_weekend  day_of_week_Monday  \\\n",
       "tstamp                                                      \n",
       "2012-01-02 00:00:00  2012           0                True   \n",
       "2012-01-02 01:00:00  2012           0                True   \n",
       "2012-01-02 02:00:00  2012           0                True   \n",
       "2012-01-02 03:00:00  2012           0                True   \n",
       "2012-01-02 04:00:00  2012           0                True   \n",
       "\n",
       "                     day_of_week_Saturday  day_of_week_Sunday  \\\n",
       "tstamp                                                          \n",
       "2012-01-02 00:00:00                 False               False   \n",
       "2012-01-02 01:00:00                 False               False   \n",
       "2012-01-02 02:00:00                 False               False   \n",
       "2012-01-02 03:00:00                 False               False   \n",
       "2012-01-02 04:00:00                 False               False   \n",
       "\n",
       "                     day_of_week_Thursday  day_of_week_Tuesday  \\\n",
       "tstamp                                                           \n",
       "2012-01-02 00:00:00                 False                False   \n",
       "2012-01-02 01:00:00                 False                False   \n",
       "2012-01-02 02:00:00                 False                False   \n",
       "2012-01-02 03:00:00                 False                False   \n",
       "2012-01-02 04:00:00                 False                False   \n",
       "\n",
       "                     day_of_week_Wednesday  \n",
       "tstamp                                      \n",
       "2012-01-02 00:00:00                  False  \n",
       "2012-01-02 01:00:00                  False  \n",
       "2012-01-02 02:00:00                  False  \n",
       "2012-01-02 03:00:00                  False  \n",
       "2012-01-02 04:00:00                  False  "
      ]
     },
     "execution_count": 59,
     "metadata": {},
     "output_type": "execute_result"
    }
   ],
   "source": [
    "df.head()"
   ]
  },
  {
   "cell_type": "markdown",
   "id": "909ac9e6",
   "metadata": {},
   "source": [
    "# Other things to do"
   ]
  },
  {
   "cell_type": "markdown",
   "id": "9246ab5c",
   "metadata": {},
   "source": [
    "Other features to engineer:\n",
    "- lag of temperature\n",
    "- rolling avg of the previous 24 hr\n",
    "- temp_diff = change in temperature\n",
    "- Interaction between temp and hour\n",
    "- Create binary “holiday_effect” feature to collect all the columns"
   ]
  },
  {
   "cell_type": "code",
   "execution_count": 64,
   "id": "f9efe6a7",
   "metadata": {},
   "outputs": [
    {
     "data": {
      "text/plain": [
       "Index(['consumed_heat', 'temp', 'cloud', 'holiday_in_general',\n",
       "       'school_holiday_period', 'public_holiday_period', 'wind_direction',\n",
       "       'wind_speed', 'lag_24', 'hour', 'day', 'month', 'year', 'is_weekend'],\n",
       "      dtype='object')"
      ]
     },
     "execution_count": 64,
     "metadata": {},
     "output_type": "execute_result"
    }
   ],
   "source": [
    "numeric_only.columns\n"
   ]
  },
  {
   "cell_type": "code",
   "execution_count": 73,
   "id": "80c9dfda",
   "metadata": {},
   "outputs": [
    {
     "data": {
      "text/plain": [
       "<Axes: >"
      ]
     },
     "execution_count": 73,
     "metadata": {},
     "output_type": "execute_result"
    },
    {
     "data": {
      "image/png": "[encoded data removed]",
      "text/plain": [
       "<Figure size 400x300 with 1 Axes>"
      ]
     },
     "metadata": {},
     "output_type": "display_data"
    }
   ],
   "source": [
    "cols_corr = ['consumed_heat', 'temp', 'cloud', 'holiday_in_general',\n",
    "       'school_holiday_period', 'public_holiday_period', 'wind_direction',\n",
    "       'wind_speed', 'lag_24', 'hour', 'day', 'month', 'year', 'is_weekend']\n",
    "#df.corr(cols_corr)['consumed_heat'].plot(kind='bar', figsize=(4,3))\n",
    "df[cols_corr].corr()['consumed_heat'].drop('consumed_heat').sort_values().plot(kind='bar', figsize=(4,3))\n"
   ]
  },
  {
   "cell_type": "markdown",
   "id": "146ff507",
   "metadata": {},
   "source": [
    "# Shift 24 hr temp and wind (assuming these are values not available for forecast)"
   ]
  },
  {
   "cell_type": "code",
   "execution_count": null,
   "id": "694add97",
   "metadata": {},
   "outputs": [],
   "source": [
    "df2 = df.copy()"
   ]
  },
  {
   "cell_type": "code",
   "execution_count": null,
   "id": "d60799cf",
   "metadata": {},
   "outputs": [],
   "source": [
    "df2['temp_24'] = df2.temp.shift(24)\n",
    "df2['cloud_24'] = df2.cloud.shift(24)\n",
    "df2['wind_speed_24'] = df2.wind_speed.shift(24)\n",
    "df2['wind_direction_24'] = df2.wind_direction.shift(24)"
   ]
  },
  {
   "cell_type": "code",
   "execution_count": null,
   "id": "a947f81f",
   "metadata": {},
   "outputs": [
    {
     "data": {
      "text/plain": [
       "consumed_heat             0\n",
       "temp                      0\n",
       "cloud                     0\n",
       "holiday_in_general        0\n",
       "school_holiday_period     0\n",
       "public_holiday_period     0\n",
       "wind_direction            0\n",
       "wind_speed                0\n",
       "lag_24                    0\n",
       "hour                      0\n",
       "day                       0\n",
       "month                     0\n",
       "year                      0\n",
       "is_weekend                0\n",
       "day_of_week_Monday        0\n",
       "day_of_week_Saturday      0\n",
       "day_of_week_Sunday        0\n",
       "day_of_week_Thursday      0\n",
       "day_of_week_Tuesday       0\n",
       "day_of_week_Wednesday     0\n",
       "temp_24                  24\n",
       "cloud_24                 24\n",
       "wind_speed_24            24\n",
       "wind_direction_24        24\n",
       "dtype: int64"
      ]
     },
     "execution_count": 23,
     "metadata": {},
     "output_type": "execute_result"
    }
   ],
   "source": [
    "df2.isnull().sum()"
   ]
  },
  {
   "cell_type": "code",
   "execution_count": null,
   "id": "b47d6ed1",
   "metadata": {},
   "outputs": [],
   "source": [
    "df2 = df2.dropna(axis=0)"
   ]
  },
  {
   "cell_type": "code",
   "execution_count": null,
   "id": "eb996fa3",
   "metadata": {},
   "outputs": [
    {
     "data": {
      "text/plain": [
       "consumed_heat            0\n",
       "temp                     0\n",
       "cloud                    0\n",
       "holiday_in_general       0\n",
       "school_holiday_period    0\n",
       "public_holiday_period    0\n",
       "wind_direction           0\n",
       "wind_speed               0\n",
       "lag_24                   0\n",
       "hour                     0\n",
       "day                      0\n",
       "month                    0\n",
       "year                     0\n",
       "is_weekend               0\n",
       "day_of_week_Monday       0\n",
       "day_of_week_Saturday     0\n",
       "day_of_week_Sunday       0\n",
       "day_of_week_Thursday     0\n",
       "day_of_week_Tuesday      0\n",
       "day_of_week_Wednesday    0\n",
       "temp_24                  0\n",
       "cloud_24                 0\n",
       "wind_speed_24            0\n",
       "wind_direction_24        0\n",
       "dtype: int64"
      ]
     },
     "execution_count": 26,
     "metadata": {},
     "output_type": "execute_result"
    }
   ],
   "source": [
    "df2.isnull().sum()"
   ]
  },
  {
   "cell_type": "code",
   "execution_count": null,
   "id": "4fa79992",
   "metadata": {},
   "outputs": [],
   "source": [
    "df.to_csv(\"../02-data/data_cleaned_engineered_24h.csv\")"
   ]
  },
  {
   "cell_type": "code",
   "execution_count": null,
   "id": "4dd0783c",
   "metadata": {},
   "outputs": [],
   "source": []
  }
 ],
 "metadata": {
  "kernelspec": {
   "display_name": "base",
   "language": "python",
   "name": "python3"
  },
  "language_info": {
   "codemirror_mode": {
    "name": "ipython",
    "version": 3
   },
   "file_extension": ".py",
   "mimetype": "text/x-python",
   "name": "python",
   "nbconvert_exporter": "python",
   "pygments_lexer": "ipython3",
   "version": "3.12.7"
  }
 },
 "nbformat": 4,
 "nbformat_minor": 5
}
